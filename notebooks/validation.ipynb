{
 "cells": [
  {
   "cell_type": "code",
   "execution_count": 97,
   "id": "initial_id",
   "metadata": {
    "collapsed": true,
    "ExecuteTime": {
     "end_time": "2024-03-01T11:55:54.438583814Z",
     "start_time": "2024-03-01T11:55:54.324022048Z"
    }
   },
   "outputs": [],
   "source": [
    "import json\n",
    "from enum import Enum\n",
    "from typing import Optional, List\n",
    "from pydantic import BaseModel, AnyHttpUrl, UUID4, model_validator\n",
    "from datetime import date"
   ]
  },
  {
   "cell_type": "markdown",
   "source": [
    "# Data definition"
   ],
   "metadata": {
    "collapsed": false
   },
   "id": "c5c45cf408cec160"
  },
  {
   "cell_type": "markdown",
   "source": [
    "## Data section"
   ],
   "metadata": {
    "collapsed": false
   },
   "id": "12caff73d7ac4956"
  },
  {
   "cell_type": "code",
   "execution_count": 98,
   "outputs": [],
   "source": [
    "class DemographicFactors(BaseModel):\n",
    "    gender: str\n",
    "    sex: str\n",
    "    age: str\n",
    "    demographic_group: str\n",
    "    location: str\n",
    "    socioeconomics: str"
   ],
   "metadata": {
    "collapsed": false,
    "ExecuteTime": {
     "end_time": "2024-03-01T11:55:54.532888940Z",
     "start_time": "2024-03-01T11:55:54.339332483Z"
    }
   },
   "id": "791743366435c4c6"
  },
  {
   "cell_type": "code",
   "execution_count": 99,
   "outputs": [],
   "source": [
    "class CatalogColumn(BaseModel):\n",
    "    column_name: str\n",
    "    description: Optional[str]\n",
    "    type: str\n",
    "    number_missing_values: int\n",
    "    categories: Optional[List[str]]"
   ],
   "metadata": {
    "collapsed": false,
    "ExecuteTime": {
     "end_time": "2024-03-01T11:55:54.556827186Z",
     "start_time": "2024-03-01T11:55:54.346381913Z"
    }
   },
   "id": "2dee36b3d18c1b74"
  },
  {
   "cell_type": "code",
   "execution_count": 100,
   "outputs": [],
   "source": [
    "class DQMetric(BaseModel):\n",
    "    name: str\n",
    "    description: str\n",
    "    value: str\n",
    "    reference: Optional[AnyHttpUrl]"
   ],
   "metadata": {
    "collapsed": false,
    "ExecuteTime": {
     "end_time": "2024-03-01T11:55:54.592986655Z",
     "start_time": "2024-03-01T11:55:54.353046577Z"
    }
   },
   "id": "fbeb7ea61563de3"
  },
  {
   "cell_type": "code",
   "execution_count": 101,
   "outputs": [],
   "source": [
    "class Data(BaseModel):\n",
    "    id: str\n",
    "    description: str\n",
    "    n: int\n",
    "    demographic_factors: DemographicFactors\n",
    "    bias_declaration: str\n",
    "    catalog: List[CatalogColumn]\n",
    "    data_quality_assessment: List[DQMetric]\n",
    "    clinicians: Optional[List[str]]\n",
    "    patients: Optional[List[str]]"
   ],
   "metadata": {
    "collapsed": false,
    "ExecuteTime": {
     "end_time": "2024-03-01T11:55:54.602437230Z",
     "start_time": "2024-03-01T11:55:54.360111756Z"
    }
   },
   "id": "46bae900cb98cd52"
  },
  {
   "cell_type": "markdown",
   "source": [
    "## Training algorithm"
   ],
   "metadata": {
    "collapsed": false
   },
   "id": "800dc89a0f87103c"
  },
  {
   "cell_type": "code",
   "outputs": [],
   "source": [
    "class PreprocessSteps(BaseModel):\n",
    "    name: str\n",
    "    description: str\n",
    "    reference: AnyHttpUrl"
   ],
   "metadata": {
    "collapsed": false,
    "ExecuteTime": {
     "end_time": "2024-03-01T11:55:54.609439906Z",
     "start_time": "2024-03-01T11:55:54.366290304Z"
    }
   },
   "id": "ea3d8d9a8496571f",
   "execution_count": 102
  },
  {
   "cell_type": "code",
   "outputs": [],
   "source": [
    "class NameValue(BaseModel):\n",
    "    name: str\n",
    "    value: str"
   ],
   "metadata": {
    "collapsed": false,
    "ExecuteTime": {
     "end_time": "2024-03-01T11:55:54.619813125Z",
     "start_time": "2024-03-01T11:55:54.371164390Z"
    }
   },
   "id": "7c8e0eb6b4259e70",
   "execution_count": 103
  },
  {
   "cell_type": "code",
   "outputs": [],
   "source": [
    "class NameVersion(BaseModel):\n",
    "    name: str\n",
    "    version: str"
   ],
   "metadata": {
    "collapsed": false,
    "ExecuteTime": {
     "end_time": "2024-03-01T11:55:54.622366102Z",
     "start_time": "2024-03-01T11:55:54.375025520Z"
    }
   },
   "id": "4a4490866064e79f",
   "execution_count": 104
  },
  {
   "cell_type": "code",
   "outputs": [],
   "source": [
    "class ImplementationDetails(BaseModel):\n",
    "    code: Optional[AnyHttpUrl]\n",
    "    type_of_architecture: str\n",
    "    preprocess_steps: Optional[List[PreprocessSteps]]\n",
    "    hyperparameters: List[NameValue]\n",
    "    programming_lang: NameVersion"
   ],
   "metadata": {
    "collapsed": false,
    "ExecuteTime": {
     "end_time": "2024-03-01T11:55:54.628881587Z",
     "start_time": "2024-03-01T11:55:54.380901841Z"
    }
   },
   "id": "42ec716de5c40219",
   "execution_count": 105
  },
  {
   "cell_type": "code",
   "outputs": [],
   "source": [
    "class TrainingAlgorithm(BaseModel):\n",
    "    id: str\n",
    "    name: str\n",
    "    description: str\n",
    "    reference: Optional[AnyHttpUrl]\n",
    "    implementation_details: ImplementationDetails"
   ],
   "metadata": {
    "collapsed": false,
    "ExecuteTime": {
     "end_time": "2024-03-01T11:55:54.629478435Z",
     "start_time": "2024-03-01T11:55:54.421384248Z"
    }
   },
   "id": "419f2fcf7bf3f90",
   "execution_count": 106
  },
  {
   "cell_type": "markdown",
   "source": [
    "## Evaluation strategy"
   ],
   "metadata": {
    "collapsed": false
   },
   "id": "f9af3e5f6ae8326d"
  },
  {
   "cell_type": "code",
   "outputs": [],
   "source": [
    "class RolesAndResponsibilities(BaseModel):\n",
    "    user_id: str\n",
    "    role_user: str\n",
    "    responsibilities: str"
   ],
   "metadata": {
    "collapsed": false,
    "ExecuteTime": {
     "end_time": "2024-03-01T11:55:54.629570772Z",
     "start_time": "2024-03-01T11:55:54.421496418Z"
    }
   },
   "id": "c419726b4cc1fd2a",
   "execution_count": 107
  },
  {
   "cell_type": "code",
   "outputs": [],
   "source": [
    "class EvaluationTypeEnum(str, Enum):\n",
    "    internal = 'internal'\n",
    "    clinical = 'clinical'\n",
    "    continual = 'continual'"
   ],
   "metadata": {
    "collapsed": false,
    "ExecuteTime": {
     "end_time": "2024-03-01T11:55:54.629649748Z",
     "start_time": "2024-03-01T11:55:54.421568799Z"
    }
   },
   "id": "6d2449790b6cdc58",
   "execution_count": 108
  },
  {
   "cell_type": "code",
   "outputs": [],
   "source": [
    "class MeasurementTypeEnum(str, Enum):\n",
    "    ai_performance = 'AI Performance'\n",
    "    perceived_utility = 'Perceived Utility'\n",
    "    perceived_usability = 'Perceived Usability'"
   ],
   "metadata": {
    "collapsed": false,
    "ExecuteTime": {
     "end_time": "2024-03-01T11:55:54.629723049Z",
     "start_time": "2024-03-01T11:55:54.421634841Z"
    }
   },
   "id": "7fc99cd47c0687d2",
   "execution_count": 109
  },
  {
   "cell_type": "code",
   "outputs": [],
   "source": [
    "class Metric(BaseModel):\n",
    "    id: str\n",
    "    name: str\n",
    "    description: str\n",
    "    instrument: Optional[AnyHttpUrl]\n",
    "    reference: Optional[AnyHttpUrl]"
   ],
   "metadata": {
    "collapsed": false,
    "ExecuteTime": {
     "end_time": "2024-03-01T11:55:54.629795312Z",
     "start_time": "2024-03-01T11:55:54.421697827Z"
    }
   },
   "id": "6be22379d4f67418",
   "execution_count": 110
  },
  {
   "cell_type": "code",
   "outputs": [],
   "source": [
    "class Step(BaseModel):\n",
    "    name: str\n",
    "    description: str\n",
    "    reference: Optional[AnyHttpUrl]\n",
    "    # List of Metric.id \n",
    "    metrics: Optional[List[str]]    "
   ],
   "metadata": {
    "collapsed": false,
    "ExecuteTime": {
     "end_time": "2024-03-01T11:55:54.629868036Z",
     "start_time": "2024-03-01T11:55:54.421788614Z"
    }
   },
   "id": "6de2d37efc49abff",
   "execution_count": 111
  },
  {
   "cell_type": "code",
   "outputs": [],
   "source": [
    "class EvaluationStrategy(BaseModel):\n",
    "    id: str\n",
    "    roles_and_responsibilities: Optional[List[RolesAndResponsibilities]]\n",
    "    evaluation_type: EvaluationTypeEnum\n",
    "    measurement_type: MeasurementTypeEnum\n",
    "    metrics: List[Metric]\n",
    "    steps: List[Step]\n",
    "    code: Optional[AnyHttpUrl]\n",
    "    reference: Optional[AnyHttpUrl]\n",
    "    \n",
    "    @model_validator(mode='after')\n",
    "    def validate_metrics_fk(self):\n",
    "        metrics_ids = []\n",
    "        if not self.metrics:\n",
    "            return\n",
    "        for m in self.metrics:\n",
    "            metrics_ids.append(m.id)\n",
    "        # check for repeated ids\n",
    "        if len(metrics_ids) > len(set(metrics_ids)):\n",
    "            raise ValueError('Non unique IDs detected for Metric.id')\n",
    "        # check foreign key\n",
    "        if not self.steps:\n",
    "            return\n",
    "        for s in self.steps:\n",
    "            if not s.metrics:\n",
    "                continue\n",
    "            for sm in s.metrics:\n",
    "                if sm not in metrics_ids:\n",
    "                    print(f'->{sm}')\n",
    "                    raise ValueError(f'Step.metrics ID {sm} not defined before')\n"
   ],
   "metadata": {
    "collapsed": false,
    "ExecuteTime": {
     "end_time": "2024-03-01T11:55:54.643264348Z",
     "start_time": "2024-03-01T11:55:54.421851233Z"
    }
   },
   "id": "1454ad86f78080b8",
   "execution_count": 112
  },
  {
   "cell_type": "markdown",
   "source": [
    "## AI Entity"
   ],
   "metadata": {
    "collapsed": false
   },
   "id": "482cb869c970277d"
  },
  {
   "cell_type": "code",
   "outputs": [],
   "source": [
    "class AIEntity(BaseModel):\n",
    "    id: str\n",
    "    manufacturer: str\n",
    "    purpose: str\n",
    "    release_date: date\n",
    "    regulation_check: str\n",
    "    ethical_declarations: List[str]\n",
    "    standards: List[str]\n",
    "    certifications: List[str]\n",
    "    encryption: str\n",
    "    field_tested_libraries: bool"
   ],
   "metadata": {
    "collapsed": false,
    "ExecuteTime": {
     "end_time": "2024-03-01T11:55:54.643577073Z",
     "start_time": "2024-03-01T11:55:54.464716838Z"
    }
   },
   "id": "d44dafe9774004a2",
   "execution_count": 113
  },
  {
   "cell_type": "code",
   "outputs": [],
   "source": [
    "class SaMD(BaseModel):\n",
    "    ai_entity: str\n",
    "    samd_name: str\n",
    "    samd_clinical_purpose: str\n",
    "    models: List[str]"
   ],
   "metadata": {
    "collapsed": false,
    "ExecuteTime": {
     "end_time": "2024-03-01T11:55:54.643690355Z",
     "start_time": "2024-03-01T11:55:54.464838086Z"
    }
   },
   "id": "182c3f723334f442",
   "execution_count": 114
  },
  {
   "cell_type": "code",
   "outputs": [],
   "source": [
    "class FoundationalModel(BaseModel):\n",
    "    ai_entity: str\n",
    "    name: str\n",
    "    description: str\n",
    "    doi: AnyHttpUrl"
   ],
   "metadata": {
    "collapsed": false,
    "ExecuteTime": {
     "end_time": "2024-03-01T11:55:54.643797304Z",
     "start_time": "2024-03-01T11:55:54.464923827Z"
    }
   },
   "id": "63cdb87b23ac5f14",
   "execution_count": 115
  },
  {
   "cell_type": "code",
   "outputs": [],
   "source": [
    "class XAI(BaseModel):\n",
    "    name: str\n",
    "    description: str\n",
    "    reference: AnyHttpUrl"
   ],
   "metadata": {
    "collapsed": false,
    "ExecuteTime": {
     "end_time": "2024-03-01T11:55:54.643903397Z",
     "start_time": "2024-03-01T11:55:54.464994886Z"
    }
   },
   "id": "31921a8dde0fbe1d",
   "execution_count": 116
  },
  {
   "cell_type": "code",
   "outputs": [],
   "source": [
    "class ExternalDocument(BaseModel):\n",
    "    document_id: str\n",
    "    document_name: str\n",
    "    document_reference: AnyHttpUrl"
   ],
   "metadata": {
    "collapsed": false,
    "ExecuteTime": {
     "end_time": "2024-03-01T11:55:54.644008565Z",
     "start_time": "2024-03-01T11:55:54.465058105Z"
    }
   },
   "id": "f504d05d58867947",
   "execution_count": 117
  },
  {
   "cell_type": "code",
   "outputs": [],
   "source": [
    "class Training(BaseModel):\n",
    "    training_algorithm: str\n",
    "    training_datasets: List[str]\n",
    "    quality_roles_and_responsibilities: Optional[ExternalDocument]\n",
    "    # test this\n",
    "    training_start_date: date\n",
    "    training_end_date: date"
   ],
   "metadata": {
    "collapsed": false,
    "ExecuteTime": {
     "end_time": "2024-03-01T11:55:54.644120934Z",
     "start_time": "2024-03-01T11:55:54.465160172Z"
    }
   },
   "id": "61ef5dd6017ba366",
   "execution_count": 118
  },
  {
   "cell_type": "code",
   "outputs": [],
   "source": [
    "class AIModel(BaseModel):\n",
    "    ai_entity: str\n",
    "    foundational_model: Optional[str]\n",
    "    xai_mechanism: List[XAI]\n",
    "    training: Training"
   ],
   "metadata": {
    "collapsed": false,
    "ExecuteTime": {
     "end_time": "2024-03-01T11:55:54.644279039Z",
     "start_time": "2024-03-01T11:55:54.465223786Z"
    }
   },
   "id": "309a1dee9ef2a8b1",
   "execution_count": 119
  },
  {
   "cell_type": "markdown",
   "source": [
    "## Evaluations"
   ],
   "metadata": {
    "collapsed": false
   },
   "id": "ed1356139cf42d7c"
  },
  {
   "cell_type": "code",
   "outputs": [],
   "source": [
    "class IDValue(BaseModel):\n",
    "    id: str\n",
    "    value: str"
   ],
   "metadata": {
    "collapsed": false,
    "ExecuteTime": {
     "end_time": "2024-03-01T11:55:54.644419942Z",
     "start_time": "2024-03-01T11:55:54.465283799Z"
    }
   },
   "id": "1cdcd31e051a1719",
   "execution_count": 120
  },
  {
   "cell_type": "code",
   "outputs": [],
   "source": [
    "class Evaluation(BaseModel):\n",
    "    ai_entity: str\n",
    "    date_start: date\n",
    "    date_end: date\n",
    "    description: str\n",
    "    evaluation_strategy: str\n",
    "    datasets: Optional[List[str]]\n",
    "    participants: Optional[List[str]]\n",
    "    values: List[IDValue]\n",
    "    reference: Optional[AnyHttpUrl]"
   ],
   "metadata": {
    "collapsed": false,
    "ExecuteTime": {
     "end_time": "2024-03-01T11:55:54.644525184Z",
     "start_time": "2024-03-01T11:55:54.511341869Z"
    }
   },
   "id": "4719ea13650ffa6d",
   "execution_count": 121
  },
  {
   "cell_type": "markdown",
   "source": [
    "## Complete Passport"
   ],
   "metadata": {
    "collapsed": false
   },
   "id": "34610856efdec868"
  },
  {
   "cell_type": "code",
   "outputs": [],
   "source": [
    "class AIPassport(BaseModel):\n",
    "    ai_entity_passport_uuid: UUID4\n",
    "    data: Optional[List[Data]]\n",
    "    training_algorithm: Optional[TrainingAlgorithm]\n",
    "    evaluation_strategies: Optional[List[EvaluationStrategy]]\n",
    "    composition_ai_entities: Optional[List[AIEntity]]\n",
    "    SaMD: Optional[SaMD]\n",
    "    foundational_model: Optional[FoundationalModel]\n",
    "    ai_models: Optional[List[AIModel]]\n",
    "    evaluations: List[Evaluation]"
   ],
   "metadata": {
    "collapsed": false,
    "ExecuteTime": {
     "end_time": "2024-03-01T11:55:54.644630491Z",
     "start_time": "2024-03-01T11:55:54.511531238Z"
    }
   },
   "id": "abbb679f6ae5ee7b",
   "execution_count": 122
  },
  {
   "cell_type": "code",
   "execution_count": 123,
   "outputs": [],
   "source": [
    "passport = AIPassport.model_json_schema()\n",
    "with open('../ai_passport_validator.json', 'w') as file:\n",
    "    json.dump(passport, file, indent=2)"
   ],
   "metadata": {
    "collapsed": false,
    "ExecuteTime": {
     "end_time": "2024-03-01T11:55:54.644713147Z",
     "start_time": "2024-03-01T11:55:54.511657597Z"
    }
   },
   "id": "26aa86ab20e1f970"
  },
  {
   "cell_type": "markdown",
   "source": [
    "# Testing"
   ],
   "metadata": {
    "collapsed": false
   },
   "id": "64122b3910f138e3"
  },
  {
   "cell_type": "markdown",
   "source": [
    "## SaMD example"
   ],
   "metadata": {
    "collapsed": false
   },
   "id": "1187766e1d4fbaa7"
  },
  {
   "cell_type": "code",
   "outputs": [],
   "source": [
    "with open ('../palliative_care_example/aleph_pc.json', 'r') as file:\n",
    "    samd_json = json.load(file)\n",
    "    AIPassport(**samd_json)"
   ],
   "metadata": {
    "collapsed": false,
    "ExecuteTime": {
     "end_time": "2024-03-01T11:55:54.644790212Z",
     "start_time": "2024-03-01T11:55:54.511748019Z"
    }
   },
   "id": "e98bb6ff0157f88f",
   "execution_count": 124
  },
  {
   "cell_type": "markdown",
   "source": [
    "## Model example"
   ],
   "metadata": {
    "collapsed": false
   },
   "id": "97d077f70feacbd3"
  },
  {
   "cell_type": "code",
   "outputs": [],
   "source": [
    "with open ('../palliative_care_example/one_year_mortality.json', 'r') as file:\n",
    "    oym_json = json.load(file)\n",
    "    AIPassport(**oym_json)"
   ],
   "metadata": {
    "collapsed": false,
    "ExecuteTime": {
     "end_time": "2024-03-01T11:55:54.644926965Z",
     "start_time": "2024-03-01T11:55:54.511835450Z"
    }
   },
   "id": "60f1cbb1f32435aa",
   "execution_count": 125
  },
  {
   "cell_type": "code",
   "outputs": [],
   "source": [
    "with open ('../palliative_care_example/regression.json', 'r') as file:\n",
    "    regression_json = json.load(file)\n",
    "    AIPassport(**regression_json)"
   ],
   "metadata": {
    "collapsed": false,
    "ExecuteTime": {
     "end_time": "2024-03-01T11:55:54.645008484Z",
     "start_time": "2024-03-01T11:55:54.511958298Z"
    }
   },
   "id": "439244448a786e22",
   "execution_count": 126
  },
  {
   "cell_type": "code",
   "outputs": [],
   "source": [
    "with open ('../palliative_care_example/one_year_frailty.json', 'r') as file:\n",
    "    frailty_json = json.load(file)\n",
    "    AIPassport(**frailty_json)"
   ],
   "metadata": {
    "collapsed": false,
    "ExecuteTime": {
     "end_time": "2024-03-01T11:55:54.645085593Z",
     "start_time": "2024-03-01T11:55:54.512066621Z"
    }
   },
   "id": "df7170d70a7545e6",
   "execution_count": 127
  }
 ],
 "metadata": {
  "kernelspec": {
   "display_name": "Python 3",
   "language": "python",
   "name": "python3"
  },
  "language_info": {
   "codemirror_mode": {
    "name": "ipython",
    "version": 2
   },
   "file_extension": ".py",
   "mimetype": "text/x-python",
   "name": "python",
   "nbconvert_exporter": "python",
   "pygments_lexer": "ipython2",
   "version": "2.7.6"
  }
 },
 "nbformat": 4,
 "nbformat_minor": 5
}
