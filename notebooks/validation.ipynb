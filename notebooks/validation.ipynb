{
 "cells": [
  {
   "cell_type": "code",
   "execution_count": 128,
   "id": "initial_id",
   "metadata": {
    "collapsed": true,
    "ExecuteTime": {
     "end_time": "2024-03-01T09:26:24.899567Z",
     "start_time": "2024-03-01T09:26:24.893572Z"
    }
   },
   "outputs": [],
   "source": [
    "import json\n",
    "from enum import Enum\n",
    "from typing import Optional, List\n",
    "from pydantic import BaseModel, AnyHttpUrl, UUID4, model_validator\n",
    "from datetime import date\n",
    "from pydantic.config import ConfigDict"
   ]
  },
  {
   "cell_type": "markdown",
   "source": [
    "# Data definition"
   ],
   "metadata": {
    "collapsed": false
   },
   "id": "c5c45cf408cec160"
  },
  {
   "cell_type": "markdown",
   "source": [
    "## Data section"
   ],
   "metadata": {
    "collapsed": false
   },
   "id": "12caff73d7ac4956"
  },
  {
   "cell_type": "code",
   "execution_count": 129,
   "outputs": [],
   "source": [
    "class DemographicFactors(BaseModel):\n",
    "    gender: str\n",
    "    sex: str\n",
    "    age: str\n",
    "    demographic_group: str\n",
    "    location: str\n",
    "    socio_economics: str"
   ],
   "metadata": {
    "collapsed": false,
    "ExecuteTime": {
     "end_time": "2024-03-01T09:26:25.114662Z",
     "start_time": "2024-03-01T09:26:25.105913Z"
    }
   },
   "id": "791743366435c4c6"
  },
  {
   "cell_type": "code",
   "execution_count": 130,
   "outputs": [],
   "source": [
    "class CatalogColumn(BaseModel):\n",
    "    column_name: str\n",
    "    description: Optional[str]\n",
    "    type: str\n",
    "    number_missing_values: int\n",
    "    categories: Optional[List[str]]"
   ],
   "metadata": {
    "collapsed": false,
    "ExecuteTime": {
     "end_time": "2024-03-01T09:26:25.136341Z",
     "start_time": "2024-03-01T09:26:25.126375Z"
    }
   },
   "id": "2dee36b3d18c1b74"
  },
  {
   "cell_type": "code",
   "execution_count": 131,
   "outputs": [],
   "source": [
    "class DQMetric(BaseModel):\n",
    "    name: str\n",
    "    description: str\n",
    "    value: str\n",
    "    reference: Optional[AnyHttpUrl]"
   ],
   "metadata": {
    "collapsed": false,
    "ExecuteTime": {
     "end_time": "2024-03-01T09:26:25.201205Z",
     "start_time": "2024-03-01T09:26:25.192583Z"
    }
   },
   "id": "fbeb7ea61563de3"
  },
  {
   "cell_type": "code",
   "execution_count": 132,
   "outputs": [],
   "source": [
    "class Data(BaseModel):\n",
    "    id: str\n",
    "    description: str\n",
    "    n: int\n",
    "    demographic_factors: DemographicFactors\n",
    "    bias_declaration: str\n",
    "    catalog: List[CatalogColumn]\n",
    "    dq_assessment: List[DQMetric]\n",
    "    clinicians: Optional[List[str]]\n",
    "    patients: Optional[List[str]]"
   ],
   "metadata": {
    "collapsed": false,
    "ExecuteTime": {
     "end_time": "2024-03-01T09:26:25.237241Z",
     "start_time": "2024-03-01T09:26:25.226546Z"
    }
   },
   "id": "46bae900cb98cd52"
  },
  {
   "cell_type": "markdown",
   "source": [
    "## Training algorithm"
   ],
   "metadata": {
    "collapsed": false
   },
   "id": "800dc89a0f87103c"
  },
  {
   "cell_type": "code",
   "outputs": [],
   "source": [
    "class PreprocessSteps(BaseModel):\n",
    "    name: str\n",
    "    description: str\n",
    "    reference: AnyHttpUrl"
   ],
   "metadata": {
    "collapsed": false,
    "ExecuteTime": {
     "end_time": "2024-03-01T09:26:25.272371Z",
     "start_time": "2024-03-01T09:26:25.266876Z"
    }
   },
   "id": "ea3d8d9a8496571f",
   "execution_count": 133
  },
  {
   "cell_type": "code",
   "outputs": [],
   "source": [
    "class NameValue(BaseModel):\n",
    "    name: str\n",
    "    value: str"
   ],
   "metadata": {
    "collapsed": false,
    "ExecuteTime": {
     "end_time": "2024-03-01T09:26:25.289277Z",
     "start_time": "2024-03-01T09:26:25.283401Z"
    }
   },
   "id": "7c8e0eb6b4259e70",
   "execution_count": 134
  },
  {
   "cell_type": "code",
   "outputs": [],
   "source": [
    "class NameVersion(BaseModel):\n",
    "    name: str\n",
    "    version: str"
   ],
   "metadata": {
    "collapsed": false,
    "ExecuteTime": {
     "end_time": "2024-03-01T09:26:25.305031Z",
     "start_time": "2024-03-01T09:26:25.298587Z"
    }
   },
   "id": "4a4490866064e79f",
   "execution_count": 135
  },
  {
   "cell_type": "code",
   "outputs": [],
   "source": [
    "class ImplementationDetails(BaseModel):\n",
    "    code: Optional[AnyHttpUrl]\n",
    "    type_of_architecture: str\n",
    "    preprocess_steps: Optional[List[PreprocessSteps]]\n",
    "    hyperparameters: List[NameValue]\n",
    "    programming_lang: NameVersion"
   ],
   "metadata": {
    "collapsed": false,
    "ExecuteTime": {
     "end_time": "2024-03-01T09:26:25.343437Z",
     "start_time": "2024-03-01T09:26:25.334981Z"
    }
   },
   "id": "42ec716de5c40219",
   "execution_count": 136
  },
  {
   "cell_type": "code",
   "outputs": [],
   "source": [
    "class TrainingAlgorithm(BaseModel):\n",
    "    id: str\n",
    "    name: str\n",
    "    description: str\n",
    "    reference: Optional[AnyHttpUrl]\n",
    "    implementation_details: ImplementationDetails"
   ],
   "metadata": {
    "collapsed": false,
    "ExecuteTime": {
     "end_time": "2024-03-01T09:26:25.376239Z",
     "start_time": "2024-03-01T09:26:25.366719Z"
    }
   },
   "id": "419f2fcf7bf3f90",
   "execution_count": 137
  },
  {
   "cell_type": "markdown",
   "source": [
    "## Evaluation strategy"
   ],
   "metadata": {
    "collapsed": false
   },
   "id": "f9af3e5f6ae8326d"
  },
  {
   "cell_type": "code",
   "outputs": [],
   "source": [
    "class RolesAndResponsibilities(BaseModel):\n",
    "    user_id: str\n",
    "    role_user: str\n",
    "    responsibilities: str"
   ],
   "metadata": {
    "collapsed": false,
    "ExecuteTime": {
     "end_time": "2024-03-01T09:26:25.418134Z",
     "start_time": "2024-03-01T09:26:25.409841Z"
    }
   },
   "id": "c419726b4cc1fd2a",
   "execution_count": 138
  },
  {
   "cell_type": "code",
   "outputs": [],
   "source": [
    "class EvaluationTypeEnum(str, Enum):\n",
    "    internal = 'internal'\n",
    "    clinical = 'clinical'\n",
    "    continual = 'continual'"
   ],
   "metadata": {
    "collapsed": false,
    "ExecuteTime": {
     "end_time": "2024-03-01T09:26:25.440129Z",
     "start_time": "2024-03-01T09:26:25.434922Z"
    }
   },
   "id": "6d2449790b6cdc58",
   "execution_count": 139
  },
  {
   "cell_type": "code",
   "outputs": [],
   "source": [
    "class MeasurementTypeEnum(str, Enum):\n",
    "    ai_performance = 'AI Performance'\n",
    "    perceived_utility = 'Perceived Utility'\n",
    "    perceived_usability = 'Perceived Usability'"
   ],
   "metadata": {
    "collapsed": false,
    "ExecuteTime": {
     "end_time": "2024-03-01T09:26:25.469634Z",
     "start_time": "2024-03-01T09:26:25.465817Z"
    }
   },
   "id": "7fc99cd47c0687d2",
   "execution_count": 140
  },
  {
   "cell_type": "code",
   "outputs": [],
   "source": [
    "class Metric(BaseModel):\n",
    "    id: str\n",
    "    name: str\n",
    "    description: str\n",
    "    instrument: Optional[AnyHttpUrl]\n",
    "    reference: Optional[AnyHttpUrl]"
   ],
   "metadata": {
    "collapsed": false,
    "ExecuteTime": {
     "end_time": "2024-03-01T09:26:25.507486Z",
     "start_time": "2024-03-01T09:26:25.498045Z"
    }
   },
   "id": "6be22379d4f67418",
   "execution_count": 141
  },
  {
   "cell_type": "code",
   "outputs": [],
   "source": [
    "class Step(BaseModel):\n",
    "    name: str\n",
    "    description: str\n",
    "    reference: Optional[AnyHttpUrl]\n",
    "    # List of Metric.id \n",
    "    metrics: Optional[List[str]]    "
   ],
   "metadata": {
    "collapsed": false,
    "ExecuteTime": {
     "end_time": "2024-03-01T09:26:25.555784Z",
     "start_time": "2024-03-01T09:26:25.546892Z"
    }
   },
   "id": "6de2d37efc49abff",
   "execution_count": 142
  },
  {
   "cell_type": "code",
   "outputs": [],
   "source": [
    "class EvaluationStrategy(BaseModel):\n",
    "    id: str\n",
    "    roles_and_responsibilities: Optional[List[RolesAndResponsibilities]]\n",
    "    evaluation_type: EvaluationTypeEnum\n",
    "    measurement_type: MeasurementTypeEnum\n",
    "    metrics: List[Metric]\n",
    "    steps: List[Step]\n",
    "    code: Optional[AnyHttpUrl]\n",
    "    reference: Optional[AnyHttpUrl]\n",
    "    \n",
    "    @model_validator(mode='after')\n",
    "    def validate_metrics_fk(self):\n",
    "        metrics_ids = []\n",
    "        if not self.metrics:\n",
    "            return\n",
    "        for m in self.metrics:\n",
    "            metrics_ids.append(m.id)\n",
    "        # check for repeated ids\n",
    "        if len(metrics_ids) > len(set(metrics_ids)):\n",
    "            raise ValueError('Non unique IDs detected for Metric.id')\n",
    "        # check foreign key\n",
    "        if not self.steps:\n",
    "            return\n",
    "        for s in self.steps:\n",
    "            if not s.metrics:\n",
    "                continue\n",
    "            for sm in s.metrics:\n",
    "                if sm not in metrics_ids:\n",
    "                    print(f'->{sm}')\n",
    "                    raise ValueError(f'Step.metrics ID {sm} not defined before')\n"
   ],
   "metadata": {
    "collapsed": false,
    "ExecuteTime": {
     "end_time": "2024-03-01T09:26:25.587087Z",
     "start_time": "2024-03-01T09:26:25.570997Z"
    }
   },
   "id": "1454ad86f78080b8",
   "execution_count": 143
  },
  {
   "cell_type": "markdown",
   "source": [
    "## AI Entity"
   ],
   "metadata": {
    "collapsed": false
   },
   "id": "482cb869c970277d"
  },
  {
   "cell_type": "code",
   "outputs": [],
   "source": [
    "class AIEntity(BaseModel):\n",
    "    id: str\n",
    "    manufacturer: str\n",
    "    purpose: str\n",
    "    release_date: date\n",
    "    regulation_check: str\n",
    "    ethical_declarations: List[str]\n",
    "    standards: List[str]\n",
    "    certifications: List[str]\n",
    "    encryption: str\n",
    "    field_tested_libraries: bool"
   ],
   "metadata": {
    "collapsed": false,
    "ExecuteTime": {
     "end_time": "2024-03-01T09:26:25.641570Z",
     "start_time": "2024-03-01T09:26:25.634048Z"
    }
   },
   "id": "d44dafe9774004a2",
   "execution_count": 144
  },
  {
   "cell_type": "code",
   "outputs": [],
   "source": [
    "class SaMD(BaseModel):\n",
    "    ai_entity: str\n",
    "    samd_name: str\n",
    "    samd_clinical_purpose: str\n",
    "    models: List[str]"
   ],
   "metadata": {
    "collapsed": false,
    "ExecuteTime": {
     "end_time": "2024-03-01T09:26:25.672826Z",
     "start_time": "2024-03-01T09:26:25.666009Z"
    }
   },
   "id": "182c3f723334f442",
   "execution_count": 145
  },
  {
   "cell_type": "code",
   "outputs": [],
   "source": [
    "class FoundationalModel(BaseModel):\n",
    "    ai_entity: str\n",
    "    name: str\n",
    "    description: str\n",
    "    doi: AnyHttpUrl"
   ],
   "metadata": {
    "collapsed": false,
    "ExecuteTime": {
     "end_time": "2024-03-01T09:26:25.717223Z",
     "start_time": "2024-03-01T09:26:25.709439Z"
    }
   },
   "id": "63cdb87b23ac5f14",
   "execution_count": 146
  },
  {
   "cell_type": "code",
   "outputs": [],
   "source": [
    "class XAI(BaseModel):\n",
    "    name: str\n",
    "    description: str\n",
    "    reference: AnyHttpUrl"
   ],
   "metadata": {
    "collapsed": false,
    "ExecuteTime": {
     "end_time": "2024-03-01T09:26:25.770348Z",
     "start_time": "2024-03-01T09:26:25.760014Z"
    }
   },
   "id": "31921a8dde0fbe1d",
   "execution_count": 147
  },
  {
   "cell_type": "code",
   "outputs": [],
   "source": [
    "class ExternalDocument(BaseModel):\n",
    "    document_id: str\n",
    "    document_name: str\n",
    "    document_reference: AnyHttpUrl"
   ],
   "metadata": {
    "collapsed": false,
    "ExecuteTime": {
     "end_time": "2024-03-01T09:26:25.817527Z",
     "start_time": "2024-03-01T09:26:25.809178Z"
    }
   },
   "id": "f504d05d58867947",
   "execution_count": 148
  },
  {
   "cell_type": "code",
   "outputs": [],
   "source": [
    "class Training(BaseModel):\n",
    "    training_algorithm: str\n",
    "    training_datasets: List[str]\n",
    "    quality_roles_and_responsibilities: Optional[ExternalDocument]\n",
    "    # test this\n",
    "    training_start_date: date\n",
    "    training_end_date: date"
   ],
   "metadata": {
    "collapsed": false,
    "ExecuteTime": {
     "end_time": "2024-03-01T09:26:25.839985Z",
     "start_time": "2024-03-01T09:26:25.831062Z"
    }
   },
   "id": "61ef5dd6017ba366",
   "execution_count": 149
  },
  {
   "cell_type": "code",
   "outputs": [],
   "source": [
    "class AIModel(BaseModel):\n",
    "    ai_entity: str\n",
    "    foundational_model: Optional[str]\n",
    "    xai_mechanism: List[XAI]\n",
    "    training: Training"
   ],
   "metadata": {
    "collapsed": false,
    "ExecuteTime": {
     "end_time": "2024-03-01T09:26:25.868032Z",
     "start_time": "2024-03-01T09:26:25.858619Z"
    }
   },
   "id": "309a1dee9ef2a8b1",
   "execution_count": 150
  },
  {
   "cell_type": "markdown",
   "source": [
    "## Evaluations"
   ],
   "metadata": {
    "collapsed": false
   },
   "id": "ed1356139cf42d7c"
  },
  {
   "cell_type": "code",
   "outputs": [],
   "source": [
    "class IDValue(BaseModel):\n",
    "    id: str\n",
    "    value: str"
   ],
   "metadata": {
    "collapsed": false,
    "ExecuteTime": {
     "end_time": "2024-03-01T09:26:25.893885Z",
     "start_time": "2024-03-01T09:26:25.887985Z"
    }
   },
   "id": "1cdcd31e051a1719",
   "execution_count": 151
  },
  {
   "cell_type": "code",
   "outputs": [],
   "source": [
    "class Evaluation(BaseModel):\n",
    "    ai_entity: str\n",
    "    date_start: date\n",
    "    date_end: date\n",
    "    description: str\n",
    "    evaluation_strategy: str\n",
    "    datasets: Optional[List[str]]\n",
    "    participants: Optional[List[str]]\n",
    "    values: List[IDValue]"
   ],
   "metadata": {
    "collapsed": false,
    "ExecuteTime": {
     "end_time": "2024-03-01T09:26:25.936276Z",
     "start_time": "2024-03-01T09:26:25.924337Z"
    }
   },
   "id": "4719ea13650ffa6d",
   "execution_count": 152
  },
  {
   "cell_type": "markdown",
   "source": [
    "## Complete Passport"
   ],
   "metadata": {
    "collapsed": false
   },
   "id": "34610856efdec868"
  },
  {
   "cell_type": "code",
   "outputs": [],
   "source": [
    "class AIPassport(BaseModel):\n",
    "    passport_uuid: UUID4\n",
    "    data: Optional[List[Data]]\n",
    "    training_algorithm: Optional[TrainingAlgorithm]\n",
    "    evaluation_strategies: Optional[List[EvaluationStrategy]]\n",
    "    ai_entities: Optional[List[AIEntity]]\n",
    "    SaMD: Optional[SaMD]\n",
    "    foundational_model: Optional[FoundationalModel]\n",
    "    ai_models: Optional[List[AIModel]]\n",
    "    evaluations: List[Evaluation]"
   ],
   "metadata": {
    "collapsed": false,
    "ExecuteTime": {
     "end_time": "2024-03-01T09:26:26.039724Z",
     "start_time": "2024-03-01T09:26:25.947657Z"
    }
   },
   "id": "abbb679f6ae5ee7b",
   "execution_count": 153
  },
  {
   "cell_type": "code",
   "execution_count": 156,
   "outputs": [],
   "source": [
    "passport = AIPassport.model_json_schema()\n",
    "with open('../passport_validator.json', 'w') as file:\n",
    "    json.dump(passport, file, indent=2)"
   ],
   "metadata": {
    "collapsed": false,
    "ExecuteTime": {
     "end_time": "2024-03-01T09:27:15.106660Z",
     "start_time": "2024-03-01T09:27:15.057193Z"
    }
   },
   "id": "26aa86ab20e1f970"
  },
  {
   "cell_type": "markdown",
   "source": [
    "# Testing"
   ],
   "metadata": {
    "collapsed": false
   },
   "id": "64122b3910f138e3"
  },
  {
   "cell_type": "markdown",
   "source": [
    "## SaMD example"
   ],
   "metadata": {
    "collapsed": false
   },
   "id": "1187766e1d4fbaa7"
  },
  {
   "cell_type": "code",
   "outputs": [],
   "source": [
    "with open ('../palliative_care_example/aleph_pc.json', 'r') as file:\n",
    "    samd_json = json.load(file)\n",
    "    AIPassport(**samd_json)"
   ],
   "metadata": {
    "collapsed": false
   },
   "id": "e98bb6ff0157f88f",
   "execution_count": null
  },
  {
   "cell_type": "markdown",
   "source": [
    "## Model example"
   ],
   "metadata": {
    "collapsed": false
   },
   "id": "97d077f70feacbd3"
  },
  {
   "cell_type": "code",
   "outputs": [],
   "source": [
    "with open ('../palliative_care_example/one_year_mortality.json', 'r') as file:\n",
    "    oym_json = json.load(file)\n",
    "    AIPassport(**oym_json)"
   ],
   "metadata": {
    "collapsed": false
   },
   "id": "60f1cbb1f32435aa",
   "execution_count": null
  },
  {
   "cell_type": "code",
   "outputs": [],
   "source": [
    "with open ('../palliative_care_example/regression.json', 'r') as file:\n",
    "    regression_json = json.load(file)\n",
    "    AIPassport(**regression_json)"
   ],
   "metadata": {
    "collapsed": false
   },
   "id": "439244448a786e22",
   "execution_count": null
  },
  {
   "cell_type": "code",
   "outputs": [],
   "source": [
    "with open ('../palliative_care_example/one_year_frailty.json', 'r') as file:\n",
    "    frailty_json = json.load(file)\n",
    "    AIPassport(**frailty_json)"
   ],
   "metadata": {
    "collapsed": false
   },
   "id": "df7170d70a7545e6",
   "execution_count": null
  },
  {
   "cell_type": "markdown",
   "source": [
    "<b style=\"color:red\">Test for the passport human-readable file should fail in several points because all the explanations are in str format</b>"
   ],
   "metadata": {
    "collapsed": false
   },
   "id": "54a8e9e689bec7cf"
  },
  {
   "cell_type": "code",
   "outputs": [
    {
     "ename": "ValidationError",
     "evalue": "10 validation errors for AIPassport\ndata.0.n\n  Input should be a valid integer, unable to parse string as an integer [type=int_parsing, input_value='int', input_type=str]\n    For further information visit https://errors.pydantic.dev/2.6/v/int_parsing\ndata.0.catalog.0.number_missing_values\n  Input should be a valid integer, unable to parse string as an integer [type=int_parsing, input_value='int', input_type=str]\n    For further information visit https://errors.pydantic.dev/2.6/v/int_parsing\nevaluation_strategies.0.evaluation_type\n  Input should be 'internal', 'clinical' or 'continual' [type=enum, input_value='categorical: internal | clinical | continual', input_type=str]\nevaluation_strategies.0.measurement_type\n  Input should be 'AI Performance', 'Perceived Utility' or 'Perceived Usability' [type=enum, input_value='categorical: AI performa...y | Perceived usability', input_type=str]\nai_entities.0.release_date\n  Input should be a valid date or datetime, invalid character in year [type=date_from_datetime_parsing, input_value='str:date in yyyy-mm-dd format', input_type=str]\n    For further information visit https://errors.pydantic.dev/2.6/v/date_from_datetime_parsing\nai_entities.0.field_tested_libraries\n  Input should be a valid boolean, unable to interpret input [type=bool_parsing, input_value='bool', input_type=str]\n    For further information visit https://errors.pydantic.dev/2.6/v/bool_parsing\nai_models.0.training.training_start_date\n  Input should be a valid date or datetime, invalid character in year [type=date_from_datetime_parsing, input_value='str:date in yyyy-mm-dd format', input_type=str]\n    For further information visit https://errors.pydantic.dev/2.6/v/date_from_datetime_parsing\nai_models.0.training.training_end_date\n  Input should be a valid date or datetime, invalid character in year [type=date_from_datetime_parsing, input_value='str:date in yyyy-mm-dd format', input_type=str]\n    For further information visit https://errors.pydantic.dev/2.6/v/date_from_datetime_parsing\nevaluations.0.date_start\n  Input should be a valid date or datetime, invalid character in year [type=date_from_datetime_parsing, input_value='str:date in yyyy-mm-dd format', input_type=str]\n    For further information visit https://errors.pydantic.dev/2.6/v/date_from_datetime_parsing\nevaluations.0.date_end\n  Input should be a valid date or datetime, invalid character in year [type=date_from_datetime_parsing, input_value='str:date in yyyy-mm-dd format', input_type=str]\n    For further information visit https://errors.pydantic.dev/2.6/v/date_from_datetime_parsing",
     "output_type": "error",
     "traceback": [
      "\u001B[0;31m---------------------------------------------------------------------------\u001B[0m",
      "\u001B[0;31mValidationError\u001B[0m                           Traceback (most recent call last)",
      "Cell \u001B[0;32mIn[155], line 3\u001B[0m\n\u001B[1;32m      1\u001B[0m \u001B[38;5;28;01mwith\u001B[39;00m \u001B[38;5;28mopen\u001B[39m (\u001B[38;5;124m'\u001B[39m\u001B[38;5;124m../human_readable_structure.json\u001B[39m\u001B[38;5;124m'\u001B[39m, \u001B[38;5;124m'\u001B[39m\u001B[38;5;124mr\u001B[39m\u001B[38;5;124m'\u001B[39m) \u001B[38;5;28;01mas\u001B[39;00m file:\n\u001B[1;32m      2\u001B[0m     struct_json \u001B[38;5;241m=\u001B[39m json\u001B[38;5;241m.\u001B[39mload(file)\n\u001B[0;32m----> 3\u001B[0m     \u001B[43mAIPassport\u001B[49m\u001B[43m(\u001B[49m\u001B[38;5;241;43m*\u001B[39;49m\u001B[38;5;241;43m*\u001B[39;49m\u001B[43mstruct_json\u001B[49m\u001B[43m)\u001B[49m\n",
      "File \u001B[0;32m~/proyectos_IBIME/ai_passport_mie2024/venv/lib/python3.10/site-packages/pydantic/main.py:171\u001B[0m, in \u001B[0;36mBaseModel.__init__\u001B[0;34m(self, **data)\u001B[0m\n\u001B[1;32m    169\u001B[0m \u001B[38;5;66;03m# `__tracebackhide__` tells pytest and some other tools to omit this function from tracebacks\u001B[39;00m\n\u001B[1;32m    170\u001B[0m __tracebackhide__ \u001B[38;5;241m=\u001B[39m \u001B[38;5;28;01mTrue\u001B[39;00m\n\u001B[0;32m--> 171\u001B[0m \u001B[38;5;28;43mself\u001B[39;49m\u001B[38;5;241;43m.\u001B[39;49m\u001B[43m__pydantic_validator__\u001B[49m\u001B[38;5;241;43m.\u001B[39;49m\u001B[43mvalidate_python\u001B[49m\u001B[43m(\u001B[49m\u001B[43mdata\u001B[49m\u001B[43m,\u001B[49m\u001B[43m \u001B[49m\u001B[43mself_instance\u001B[49m\u001B[38;5;241;43m=\u001B[39;49m\u001B[38;5;28;43mself\u001B[39;49m\u001B[43m)\u001B[49m\n",
      "\u001B[0;31mValidationError\u001B[0m: 10 validation errors for AIPassport\ndata.0.n\n  Input should be a valid integer, unable to parse string as an integer [type=int_parsing, input_value='int', input_type=str]\n    For further information visit https://errors.pydantic.dev/2.6/v/int_parsing\ndata.0.catalog.0.number_missing_values\n  Input should be a valid integer, unable to parse string as an integer [type=int_parsing, input_value='int', input_type=str]\n    For further information visit https://errors.pydantic.dev/2.6/v/int_parsing\nevaluation_strategies.0.evaluation_type\n  Input should be 'internal', 'clinical' or 'continual' [type=enum, input_value='categorical: internal | clinical | continual', input_type=str]\nevaluation_strategies.0.measurement_type\n  Input should be 'AI Performance', 'Perceived Utility' or 'Perceived Usability' [type=enum, input_value='categorical: AI performa...y | Perceived usability', input_type=str]\nai_entities.0.release_date\n  Input should be a valid date or datetime, invalid character in year [type=date_from_datetime_parsing, input_value='str:date in yyyy-mm-dd format', input_type=str]\n    For further information visit https://errors.pydantic.dev/2.6/v/date_from_datetime_parsing\nai_entities.0.field_tested_libraries\n  Input should be a valid boolean, unable to interpret input [type=bool_parsing, input_value='bool', input_type=str]\n    For further information visit https://errors.pydantic.dev/2.6/v/bool_parsing\nai_models.0.training.training_start_date\n  Input should be a valid date or datetime, invalid character in year [type=date_from_datetime_parsing, input_value='str:date in yyyy-mm-dd format', input_type=str]\n    For further information visit https://errors.pydantic.dev/2.6/v/date_from_datetime_parsing\nai_models.0.training.training_end_date\n  Input should be a valid date or datetime, invalid character in year [type=date_from_datetime_parsing, input_value='str:date in yyyy-mm-dd format', input_type=str]\n    For further information visit https://errors.pydantic.dev/2.6/v/date_from_datetime_parsing\nevaluations.0.date_start\n  Input should be a valid date or datetime, invalid character in year [type=date_from_datetime_parsing, input_value='str:date in yyyy-mm-dd format', input_type=str]\n    For further information visit https://errors.pydantic.dev/2.6/v/date_from_datetime_parsing\nevaluations.0.date_end\n  Input should be a valid date or datetime, invalid character in year [type=date_from_datetime_parsing, input_value='str:date in yyyy-mm-dd format', input_type=str]\n    For further information visit https://errors.pydantic.dev/2.6/v/date_from_datetime_parsing"
     ]
    }
   ],
   "source": [
    "with open ('../human_readable_structure.json', 'r') as file:\n",
    "    struct_json = json.load(file)\n",
    "    AIPassport(**struct_json)"
   ],
   "metadata": {
    "collapsed": false,
    "ExecuteTime": {
     "end_time": "2024-03-01T09:26:26.237628Z",
     "start_time": "2024-03-01T09:26:26.204366Z"
    }
   },
   "id": "60a588c575b463ce",
   "execution_count": 155
  }
 ],
 "metadata": {
  "kernelspec": {
   "display_name": "Python 3",
   "language": "python",
   "name": "python3"
  },
  "language_info": {
   "codemirror_mode": {
    "name": "ipython",
    "version": 2
   },
   "file_extension": ".py",
   "mimetype": "text/x-python",
   "name": "python",
   "nbconvert_exporter": "python",
   "pygments_lexer": "ipython2",
   "version": "2.7.6"
  }
 },
 "nbformat": 4,
 "nbformat_minor": 5
}
